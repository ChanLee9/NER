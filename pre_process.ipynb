{
 "cells": [
  {
   "cell_type": "markdown",
   "id": "559aad4d-c9bd-459d-afc5-9376a3189922",
   "metadata": {},
   "source": [
    "## 产品评论观点提取——数据来源和背景\n",
    "随着互联网的不断深入普及，越来越多的用户在体验企业提供的产品和服务时，会将其感受和评论分享在互联网上。这些评价和反馈信息对企业针对性地改善产品和服务有极强的指导意义，但互联网的海量信息容量让人工查找并处理评价内容的方案代价高昂。本赛题提供了一个银行业产品评价的场景，探索利用自然语言处理技术来完成评论观点的自动化提取，为行业的进一步发展提高提供参考。"
   ]
  },
  {
   "cell_type": "markdown",
   "id": "715fa31a-3950-4907-9d65-16de25c600e7",
   "metadata": {},
   "source": [
    "### 相关说明\n",
    "BIO_anno列：\n",
    "* B-BANK 代表银行实体的开始\n",
    "* I-BANK 代表银行实体的内部\n",
    "* B-PRODUCT 代表产品实体的开始\n",
    "* I-PRODUCT 代表产品实体的内部\n",
    "* O 代表不属于标注的范围\n",
    "* B-COMMENTS_N 代表用户评论（名词）\n",
    "* I-COMMENTS_N 代表用户评论（名词）实体的内部\n",
    "* B-COMMENTS_ADJ 代表用户评论（形容词）\n",
    "* I-COMMENTS_ADJ 代表用户评论（形容词）实体的内部\n",
    "\n",
    "\n",
    "class列：\n",
    "* 0 代表情感负面\n",
    "* 1 代表情感正面\n",
    "* 2 代表情感中性"
   ]
  },
  {
   "cell_type": "markdown",
   "id": "0961ce5e-dcb8-4888-a447-d57e00eba51c",
   "metadata": {},
   "source": [
    "## 导入相关模块"
   ]
  },
  {
   "cell_type": "code",
   "execution_count": 1,
   "id": "411d99f4-ac0b-4555-90b4-cf9f4b6343ae",
   "metadata": {},
   "outputs": [],
   "source": [
    "TRAIN_PATH = '/project1/liqingshan/NLP/NER/Data/train_data_public.csv'\n",
    "\n",
    "import pandas as pd\n",
    "import matplotlib.pyplot as plt"
   ]
  },
  {
   "cell_type": "markdown",
   "id": "fedb1e1e-ff07-4193-8f41-f5e3bb21b1fe",
   "metadata": {},
   "source": [
    "## 查看数据"
   ]
  },
  {
   "cell_type": "code",
   "execution_count": 2,
   "id": "7123ee9c-5dc8-4606-9003-361b02d64630",
   "metadata": {},
   "outputs": [
    {
     "data": {
      "text/html": [
       "<div>\n",
       "<style scoped>\n",
       "    .dataframe tbody tr th:only-of-type {\n",
       "        vertical-align: middle;\n",
       "    }\n",
       "\n",
       "    .dataframe tbody tr th {\n",
       "        vertical-align: top;\n",
       "    }\n",
       "\n",
       "    .dataframe thead th {\n",
       "        text-align: right;\n",
       "    }\n",
       "</style>\n",
       "<table border=\"1\" class=\"dataframe\">\n",
       "  <thead>\n",
       "    <tr style=\"text-align: right;\">\n",
       "      <th></th>\n",
       "      <th>id</th>\n",
       "      <th>text</th>\n",
       "      <th>BIO_anno</th>\n",
       "      <th>class</th>\n",
       "    </tr>\n",
       "  </thead>\n",
       "  <tbody>\n",
       "    <tr>\n",
       "      <th>0</th>\n",
       "      <td>0</td>\n",
       "      <td>交行14年用过，半年准备提额，却直接被降到1Ｋ，半年期间只T过一次三千，其它全部真实消费，第...</td>\n",
       "      <td>B-BANK I-BANK O O O O O O O O O O B-COMMENTS_N...</td>\n",
       "      <td>0</td>\n",
       "    </tr>\n",
       "    <tr>\n",
       "      <th>1</th>\n",
       "      <td>1</td>\n",
       "      <td>单标我有了，最近visa双标返现活动好</td>\n",
       "      <td>B-PRODUCT I-PRODUCT O O O O O O B-PRODUCT I-PR...</td>\n",
       "      <td>1</td>\n",
       "    </tr>\n",
       "    <tr>\n",
       "      <th>2</th>\n",
       "      <td>2</td>\n",
       "      <td>建设银行提额很慢的……</td>\n",
       "      <td>B-BANK I-BANK I-BANK I-BANK B-COMMENTS_N I-COM...</td>\n",
       "      <td>0</td>\n",
       "    </tr>\n",
       "    <tr>\n",
       "      <th>3</th>\n",
       "      <td>3</td>\n",
       "      <td>我的怎么显示0.25费率，而且不管分多少期都一样费率，可惜只有69k</td>\n",
       "      <td>O O O O O O O O O O B-COMMENTS_N I-COMMENTS_N ...</td>\n",
       "      <td>2</td>\n",
       "    </tr>\n",
       "    <tr>\n",
       "      <th>4</th>\n",
       "      <td>4</td>\n",
       "      <td>利率不错，可以撸</td>\n",
       "      <td>B-COMMENTS_N I-COMMENTS_N B-COMMENTS_ADJ I-COM...</td>\n",
       "      <td>1</td>\n",
       "    </tr>\n",
       "    <tr>\n",
       "      <th>...</th>\n",
       "      <td>...</td>\n",
       "      <td>...</td>\n",
       "      <td>...</td>\n",
       "      <td>...</td>\n",
       "    </tr>\n",
       "    <tr>\n",
       "      <th>7523</th>\n",
       "      <td>7523</td>\n",
       "      <td>我鼎级拒了</td>\n",
       "      <td>O O O B-COMMENTS_ADJ O</td>\n",
       "      <td>2</td>\n",
       "    </tr>\n",
       "    <tr>\n",
       "      <th>7524</th>\n",
       "      <td>7524</td>\n",
       "      <td>一打一个准，准胜，看激活信用卡时那协议，全是对银行有利的</td>\n",
       "      <td>O O O O O O O O O O B-COMMENTS_N I-COMMENTS_N ...</td>\n",
       "      <td>2</td>\n",
       "    </tr>\n",
       "    <tr>\n",
       "      <th>7525</th>\n",
       "      <td>7525</td>\n",
       "      <td>招行分期白80k</td>\n",
       "      <td>B-BANK I-BANK B-PRODUCT I-PRODUCT I-PRODUCT O O O</td>\n",
       "      <td>2</td>\n",
       "    </tr>\n",
       "    <tr>\n",
       "      <th>7526</th>\n",
       "      <td>7526</td>\n",
       "      <td>5万，额度还行吧没毕业哦</td>\n",
       "      <td>O O O B-COMMENTS_N I-COMMENTS_N O O O O O O O</td>\n",
       "      <td>2</td>\n",
       "    </tr>\n",
       "    <tr>\n",
       "      <th>7527</th>\n",
       "      <td>7527</td>\n",
       "      <td>张家港农商、江阴农商、无锡农商试试</td>\n",
       "      <td>B-BANK I-BANK I-BANK I-BANK I-BANK O B-BANK I-...</td>\n",
       "      <td>2</td>\n",
       "    </tr>\n",
       "  </tbody>\n",
       "</table>\n",
       "<p>7528 rows × 4 columns</p>\n",
       "</div>"
      ],
      "text/plain": [
       "        id                                               text  \\\n",
       "0        0  交行14年用过，半年准备提额，却直接被降到1Ｋ，半年期间只T过一次三千，其它全部真实消费，第...   \n",
       "1        1                                单标我有了，最近visa双标返现活动好   \n",
       "2        2                                        建设银行提额很慢的……   \n",
       "3        3                 我的怎么显示0.25费率，而且不管分多少期都一样费率，可惜只有69k   \n",
       "4        4                                           利率不错，可以撸   \n",
       "...    ...                                                ...   \n",
       "7523  7523                                              我鼎级拒了   \n",
       "7524  7524                       一打一个准，准胜，看激活信用卡时那协议，全是对银行有利的   \n",
       "7525  7525                                           招行分期白80k   \n",
       "7526  7526                                       5万，额度还行吧没毕业哦   \n",
       "7527  7527                                  张家港农商、江阴农商、无锡农商试试   \n",
       "\n",
       "                                               BIO_anno  class  \n",
       "0     B-BANK I-BANK O O O O O O O O O O B-COMMENTS_N...      0  \n",
       "1     B-PRODUCT I-PRODUCT O O O O O O B-PRODUCT I-PR...      1  \n",
       "2     B-BANK I-BANK I-BANK I-BANK B-COMMENTS_N I-COM...      0  \n",
       "3     O O O O O O O O O O B-COMMENTS_N I-COMMENTS_N ...      2  \n",
       "4     B-COMMENTS_N I-COMMENTS_N B-COMMENTS_ADJ I-COM...      1  \n",
       "...                                                 ...    ...  \n",
       "7523                             O O O B-COMMENTS_ADJ O      2  \n",
       "7524  O O O O O O O O O O B-COMMENTS_N I-COMMENTS_N ...      2  \n",
       "7525  B-BANK I-BANK B-PRODUCT I-PRODUCT I-PRODUCT O O O      2  \n",
       "7526      O O O B-COMMENTS_N I-COMMENTS_N O O O O O O O      2  \n",
       "7527  B-BANK I-BANK I-BANK I-BANK I-BANK O B-BANK I-...      2  \n",
       "\n",
       "[7528 rows x 4 columns]"
      ]
     },
     "execution_count": 2,
     "metadata": {},
     "output_type": "execute_result"
    }
   ],
   "source": [
    "raw_data = pd.read_csv(TRAIN_PATH)\n",
    "raw_data"
   ]
  },
  {
   "cell_type": "markdown",
   "id": "efb15788-4334-4c3a-aac5-d3b2b3b10874",
   "metadata": {},
   "source": [
    "## 划分数据集\n",
    "按照 8:2 的比例划分训练集和测试集。为了尽可能的利用训练集，我们在训练集上做5折交叉验证。"
   ]
  },
  {
   "cell_type": "code",
   "execution_count": 3,
   "id": "713a6158-89ec-462d-9c65-efc052ebd95d",
   "metadata": {},
   "outputs": [
    {
     "name": "stdout",
     "output_type": "stream",
     "text": [
      "6023 1505\n"
     ]
    }
   ],
   "source": [
    "train_data = raw_data[len(raw_data)//5:].reset_index()\n",
    "test_data = raw_data[:len(raw_data)//5].reset_index()\n",
    "print(len(train_data), len(test_data))"
   ]
  },
  {
   "cell_type": "markdown",
   "id": "ba15fc21-c246-45fa-a4fc-cf87c0d65703",
   "metadata": {},
   "source": [
    "## 保存训练集和测试集"
   ]
  },
  {
   "cell_type": "code",
   "execution_count": 4,
   "id": "612d9074-6fcf-413b-abab-c63b5dce02cd",
   "metadata": {},
   "outputs": [],
   "source": [
    "train_path = '/project1/liqingshan/NLP/NER/Data/train.csv'\n",
    "train_data.to_csv(train_path)\n",
    "test_path = '/project1/liqingshan/NLP/NER/Data/test.csv'\n",
    "test_data.to_csv(test_path)"
   ]
  },
  {
   "cell_type": "markdown",
   "id": "ecc0050d-d2ef-4119-acee-561100ab9211",
   "metadata": {},
   "source": [
    "## 查看文本长度分布"
   ]
  },
  {
   "cell_type": "code",
   "execution_count": 5,
   "id": "341850bf-fe14-4243-aad5-b1b865a7998b",
   "metadata": {},
   "outputs": [
    {
     "data": {
      "image/png": "[encoded data removed]",
      "text/plain": [
       "<Figure size 640x480 with 1 Axes>"
      ]
     },
     "metadata": {},
     "output_type": "display_data"
    },
    {
     "name": "stdout",
     "output_type": "stream",
     "text": [
      "longest text: 4月份提固定额度，同时给临时额度，一直续期，期间分了2次分期，打5折和3.2折的，6.27临时到期不给续，以为要完蛋了，昨晚无意点了一下额度看看，发现又有临时83000，之前是93000，时间到7.27，然后想等明天再看看时间是否能延长，今天再看还是只能到7.27，临时额度却变成108000了，意外。小招又送临时额度了。\n",
      "longest text length: 161\n"
     ]
    }
   ],
   "source": [
    "def get_text_len(data):\n",
    "    lens = {}\n",
    "    for i in range(len(data)):\n",
    "        lens[i] = len(data['text'][i])\n",
    "    return dict(sorted(lens.items(), key=lambda x:x[1], reverse=True))\n",
    "text_len_ordered = get_text_len(train_data)\n",
    "\n",
    "def plot_distribution(data, label):\n",
    "    '''\n",
    "    data: dictionary\n",
    "    label: legend\n",
    "    '''\n",
    "    xx = range(len(data))\n",
    "    plt.plot(xx, data.values(), label=label)\n",
    "    plt.legend()\n",
    "    plt.show()\n",
    "plot_distribution(text_len_ordered, 'text length')\n",
    "print('longest text:', train_data['text'][next(iter(text_len_ordered.keys()))])\n",
    "print('longest text length:', next(iter(text_len_ordered.values())))\n"
   ]
  },
  {
   "cell_type": "markdown",
   "id": "47262f44-c02f-4b50-906a-a2761466f1f6",
   "metadata": {},
   "source": [
    "最长仅161个字符，可以考虑 lstm+crf 和 bert 系列预训练模型。"
   ]
  },
  {
   "cell_type": "markdown",
   "id": "2dc36616-f887-4932-a73a-8374fc3ea80b",
   "metadata": {},
   "source": [
    "## 查看词汇分布"
   ]
  },
  {
   "cell_type": "code",
   "execution_count": 6,
   "id": "44accc9d-f19d-4986-813d-3975b4446ba8",
   "metadata": {},
   "outputs": [
    {
     "name": "stdout",
     "output_type": "stream",
     "text": [
      "total number of different chars = 1970\n"
     ]
    },
    {
     "data": {
      "image/png": "[encoded data removed]",
      "text/plain": [
       "<Figure size 640x480 with 1 Axes>"
      ]
     },
     "metadata": {},
     "output_type": "display_data"
    }
   ],
   "source": [
    "def get_char_freq(data):\n",
    "    chars = {}\n",
    "    for i in range(len(data)):\n",
    "        cur_text = list(data['text'][i])\n",
    "        for char in cur_text:\n",
    "            chars[char] = chars.get(char, 0) + 1\n",
    "    return dict(sorted(chars.items(), key=lambda x:x[1], reverse=True))\n",
    "char_freq = get_char_freq(train_data)\n",
    "print(f'total number of different chars = {len(char_freq)}')\n",
    "plot_distribution(char_freq, 'char frequency')"
   ]
  },
  {
   "cell_type": "markdown",
   "id": "110fe6eb-898e-4dfb-9e9c-93ed18aca611",
   "metadata": {},
   "source": [
    "## 构建词汇表、保存词汇文档\n",
    "把 PAD 和 UNK 放在词汇表开头。"
   ]
  },
  {
   "cell_type": "code",
   "execution_count": 7,
   "id": "01fd79e5-b9dd-4ab4-94d4-eb1bc999da8e",
   "metadata": {},
   "outputs": [
    {
     "name": "stdout",
     "output_type": "stream",
     "text": [
      "       char    id\n",
      "0     <PAD>     0\n",
      "1     <UNK>     1\n",
      "2         ，     2\n",
      "3         的     3\n",
      "4         了     4\n",
      "...     ...   ...\n",
      "1965      聽  1965\n",
      "1966      說  1966\n",
      "1967      泸  1967\n",
      "1968      疾  1968\n",
      "1969      厘  1969\n",
      "\n",
      "[1970 rows x 2 columns]\n"
     ]
    }
   ],
   "source": [
    "VOCAB_TXT = '/project1/liqingshan/NLP/NER/Data/vocab.txt'\n",
    "PAD = '<PAD>'\n",
    "UNK = '<UNK>'\n",
    "\n",
    "VOCAB_SIZE = 1970\n",
    "def save_vocab(char_freq):\n",
    "    vocab = [PAD, UNK]\n",
    "    for char in char_freq.keys():\n",
    "        vocab.append(char)\n",
    "    vocab_list = vocab[:VOCAB_SIZE]     # 取前1970个词\n",
    "    vocab_dict = {v:k for k, v in enumerate(vocab_list)}    \n",
    "    vocab_df = pd.DataFrame(list(vocab_dict.items()), columns=['char', 'id'])\n",
    "    print(vocab_df)\n",
    "    vocab_df.to_csv(VOCAB_TXT, header=['char', 'id'], index=None)\n",
    "    return vocab_dict\n",
    "\n",
    "vocab_dict = save_vocab(char_freq)"
   ]
  },
  {
   "cell_type": "markdown",
   "id": "805b27b4-ffff-478e-8e8a-9a76f54f92b0",
   "metadata": {},
   "source": [
    "## 查看标签分布并构建标签表"
   ]
  },
  {
   "cell_type": "code",
   "execution_count": 8,
   "id": "68c077c8-8a3b-4c74-b9d0-73bcd084106e",
   "metadata": {},
   "outputs": [
    {
     "data": {
      "text/plain": [
       "[]"
      ]
     },
     "execution_count": 8,
     "metadata": {},
     "output_type": "execute_result"
    },
    {
     "data": {
      "image/png": "[encoded data removed]",
      "text/plain": [
       "<Figure size 640x480 with 1 Axes>"
      ]
     },
     "metadata": {},
     "output_type": "display_data"
    }
   ],
   "source": [
    "LABEL_TXT = '/project1/liqingshan/NLP/NER/Data/label.txt'\n",
    "\n",
    "def get_label_freq(data):\n",
    "    labels = {}\n",
    "    for i in range(len(data)):\n",
    "        cur_label = data['BIO_anno'][i].split()\n",
    "        for label in cur_label:\n",
    "            labels[label] = labels.get(label, 0) + 1\n",
    "    return dict(sorted(labels.items(), key=lambda x: x[1], reverse=True))\n",
    "label_freq = get_label_freq(train_data)\n",
    "\n",
    "plt.pie(label_freq.values(), labels=label_freq.keys(), autopct='%.1f')\n",
    "plt.plot()"
   ]
  },
  {
   "cell_type": "code",
   "execution_count": 9,
   "id": "f06cff6a-b74c-49b1-95c2-7b27d82aa1fb",
   "metadata": {},
   "outputs": [
    {
     "name": "stdout",
     "output_type": "stream",
     "text": [
      "            label  id\n",
      "0               O   0\n",
      "1       I-PRODUCT   1\n",
      "2  B-COMMENTS_ADJ   2\n",
      "3    I-COMMENTS_N   3\n",
      "4    B-COMMENTS_N   4\n",
      "5       B-PRODUCT   5\n",
      "6  I-COMMENTS_ADJ   6\n",
      "7          I-BANK   7\n",
      "8          B-BANK   8\n"
     ]
    }
   ],
   "source": [
    "def save_labels(label_freq):\n",
    "    label_list = label_freq.keys()\n",
    "    label_dict = {v:k for k, v in enumerate(label_list)}\n",
    "    \n",
    "    label_df = pd.DataFrame(list(label_dict.items()), columns=['label', 'id'])\n",
    "    print(label_df)\n",
    "    label_df.to_csv(LABEL_TXT, header=['label', 'id'], index=None)\n",
    "    return label_dict\n",
    "label_dict = save_labels(label_freq)"
   ]
  }
 ],
 "metadata": {
  "kernelspec": {
   "display_name": "Python 3 (ipykernel)",
   "language": "python",
   "name": "python3"
  },
  "language_info": {
   "codemirror_mode": {
    "name": "ipython",
    "version": 3
   },
   "file_extension": ".py",
   "mimetype": "text/x-python",
   "name": "python",
   "nbconvert_exporter": "python",
   "pygments_lexer": "ipython3",
   "version": "3.9.15"
  },
  "vscode": {
   "interpreter": {
    "hash": "fc46c413e14c5c096ff784e546e3f035f98811d5a69f109590d3d4a59ca86c7d"
   }
  }
 },
 "nbformat": 4,
 "nbformat_minor": 5
}
